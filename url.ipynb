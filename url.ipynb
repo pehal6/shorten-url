{
  "nbformat": 4,
  "nbformat_minor": 0,
  "metadata": {
    "colab": {
      "provenance": []
    },
    "kernelspec": {
      "name": "python3",
      "display_name": "Python 3"
    },
    "language_info": {
      "name": "python"
    }
  },
  "cells": [
    {
      "cell_type": "code",
      "metadata": {
        "colab": {
          "base_uri": "https://localhost:8080/"
        },
        "id": "9a03bcb3",
        "outputId": "b699b765-9af7-4a12-fdc5-1169939c4f8f"
      },
      "source": [
        "%pip install pyshorteners"
      ],
      "execution_count": 37,
      "outputs": [
        {
          "output_type": "stream",
          "name": "stdout",
          "text": [
            "Collecting pyshorteners\n",
            "  Downloading pyshorteners-1.0.1.tar.gz (10.0 kB)\n",
            "  Preparing metadata (setup.py) ... \u001b[?25l\u001b[?25hdone\n",
            "Requirement already satisfied: requests in /usr/local/lib/python3.11/dist-packages (from pyshorteners) (2.32.3)\n",
            "Requirement already satisfied: charset-normalizer<4,>=2 in /usr/local/lib/python3.11/dist-packages (from requests->pyshorteners) (3.4.2)\n",
            "Requirement already satisfied: idna<4,>=2.5 in /usr/local/lib/python3.11/dist-packages (from requests->pyshorteners) (3.10)\n",
            "Requirement already satisfied: urllib3<3,>=1.21.1 in /usr/local/lib/python3.11/dist-packages (from requests->pyshorteners) (2.4.0)\n",
            "Requirement already satisfied: certifi>=2017.4.17 in /usr/local/lib/python3.11/dist-packages (from requests->pyshorteners) (2025.7.14)\n",
            "Building wheels for collected packages: pyshorteners\n",
            "  Building wheel for pyshorteners (setup.py) ... \u001b[?25l\u001b[?25hdone\n",
            "  Created wheel for pyshorteners: filename=pyshorteners-1.0.1-py3-none-any.whl size=17479 sha256=de85debea5199c540d895efaf18e40d3e5e30c70b0441b0f7f6ff1dabc379e2b\n",
            "  Stored in directory: /root/.cache/pip/wheels/40/25/54/000cc118ff192ee36c95b1374ee4c42d5d39143d940de5908a\n",
            "Successfully built pyshorteners\n",
            "Installing collected packages: pyshorteners\n",
            "Successfully installed pyshorteners-1.0.1\n"
          ]
        }
      ]
    },
    {
      "cell_type": "code",
      "source": [
        "import pyshorteners\n",
        "\n",
        "def shorten_url(long_url):\n",
        "    shortener = pyshorteners.Shortener()\n",
        "    short_url = shortener.tinyurl.short(long_url)\n",
        "    return short_url\n",
        "\n",
        "\n",
        "link = input(\"Enter the long URL: \")\n",
        "short = shorten_url(link)\n",
        "print(f\" Shortened URL: {short}\")\n"
      ],
      "metadata": {
        "colab": {
          "base_uri": "https://localhost:8080/"
        },
        "id": "YRGNQtOhorJK",
        "outputId": "a1d6712a-98c4-420a-952d-5e2ba9007534"
      },
      "execution_count": 38,
      "outputs": [
        {
          "output_type": "stream",
          "name": "stdout",
          "text": [
            "Enter the long URL: https://docs.google.com/forms/d/e/1FAIpQLScUsToApjFOr00bL0NFSPT0sK1Neab3uqS963svVJHOKaa55w/viewform?usp=dialog \n",
            " Shortened URL: https://tinyurl.com/ywt9c3mt\n"
          ]
        }
      ]
    }
  ]
}